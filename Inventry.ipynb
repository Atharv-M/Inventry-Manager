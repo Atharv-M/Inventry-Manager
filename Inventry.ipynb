{
 "cells": [
  {
   "cell_type": "code",
   "execution_count": null,
   "id": "e84cb861-2a82-4f25-9464-d9af4809b3e1",
   "metadata": {},
   "outputs": [
    {
     "name": "stdout",
     "output_type": "stream",
     "text": [
      "content='The engine\\'s hum, a familiar drone,\\nA digital world I call my home.\\nThe countdown starts, my thumbs are set,\\nOn battlegrounds where we have met.\\n\\nA leap of faith from metal bird,\\nTo Erangel\\'s fields, a whispered word.\\nPochinki\\'s chaos, Georgopol\\'s grace,\\nI find my loot, I find my place.\\n\\nAn M416, a trusty friend,\\nA 4x scope, on which I depend.\\nThe distant pop, a sniper\\'s call,\\nI duck for cover, standing tall.\\n\\nThe blue zone shrinks, a closing fist,\\nA world of danger I can\\'t resist.\\nMy squad\\'s on voice, a steady guide,\\n\"Enemy ahead! Nowhere to hide!\"\\n\\nWe rush a house, a frantic dance,\\nA well-thrown frag, a final chance.\\nThe spray of bullets, the smoke, the fire,\\nTo clutch the win is my desire.\\n\\nThe final circle, grass is high,\\nJust one last team beneath the sky.\\nMy heartbeat pounds, a frantic drum,\\nUntil the victory has come.\\n\\nThen silence falls, the screen aglow,\\nThat golden phrase that all we know:\\n\"Winner Winner Chicken Dinner!\"\\nThere is no feeling that\\'s a winner.\\n\\nSo more than just a simple game,\\nYou call to me, you speak my name.\\nMy love, my thrill, my great escape,\\nMy dear BGMI, in perfect shape.' additional_kwargs={} response_metadata={'prompt_feedback': {'block_reason': 0, 'safety_ratings': []}, 'finish_reason': 'STOP', 'safety_ratings': []} id='run--dc3865ff-50af-491b-aed5-c9a4442f0682-0' usage_metadata={'input_tokens': 8, 'output_tokens': 323, 'total_tokens': 1696, 'input_token_details': {'cache_read': 0}}\n"
     ]
    }
   ],
   "source": [
    "from langchain_google_genai import ChatGoogleGenerativeAI\n",
    "import os\n",
    "os.environ[\"GOOGLE_API_KEY\"] = \"YOUR_API_KEY\"\n",
    "\n",
    "llm = ChatGoogleGenerativeAI(model=\"gemini-2.5-pro\", temperature=0.6)\n",
    "poem=llm.invoke(\"Write poem on my love BGMI\")\n",
    "print(poem)"
   ]
  },
  {
   "cell_type": "code",
   "execution_count": 6,
   "id": "454675fc-7c66-45ff-88ff-12829f1cd459",
   "metadata": {},
   "outputs": [
    {
     "name": "stdout",
     "output_type": "stream",
     "text": [
      "✅ MySQL connection successful!\n",
      "📂 Tables in DB: (('discounts',), ('t_shirts',))\n"
     ]
    }
   ],
   "source": [
    "import pymysql\n",
    "\n",
    "# 🔹 Fill in your MySQL credentials here\n",
    "db_user = \"root\"        # Your MySQL username\n",
    "db_password = \"root\"        # Your MySQL password (empty string if none)\n",
    "db_host = \"localhost\"   # or \"127.0.0.1\"\n",
    "db_port = 3306          # Default MySQL port, change if needed\n",
    "db_name = \"atliq_tshirts\"  # Your database name\n",
    "\n",
    "try:\n",
    "    # Create connection\n",
    "    connection = pymysql.connect(\n",
    "        host=db_host,\n",
    "        user=db_user,\n",
    "        password=db_password,\n",
    "        database=db_name,\n",
    "        port=db_port\n",
    "    )\n",
    "    \n",
    "    print(\"✅ MySQL connection successful!\")\n",
    "\n",
    "    # Test: Show available tables\n",
    "    with connection.cursor() as cursor:\n",
    "        cursor.execute(\"SHOW TABLES;\")\n",
    "        tables = cursor.fetchall()\n",
    "        print(\"📂 Tables in DB:\", tables)\n",
    "\n",
    "except pymysql.MySQLError as e:\n",
    "    print(\"❌ MySQL connection failed!\")\n",
    "    print(\"Error:\", e)\n"
   ]
  },
  {
   "cell_type": "code",
   "execution_count": 5,
   "id": "2bb1c730-451c-43b9-9ccf-64e5951d9207",
   "metadata": {},
   "outputs": [
    {
     "name": "stdout",
     "output_type": "stream",
     "text": [
      "\n",
      "CREATE TABLE discounts (\n",
      "\tdiscount_id INTEGER NOT NULL AUTO_INCREMENT, \n",
      "\tt_shirt_id INTEGER NOT NULL, \n",
      "\tpct_discount DECIMAL(5, 2), \n",
      "\tPRIMARY KEY (discount_id), \n",
      "\tCONSTRAINT discounts_ibfk_1 FOREIGN KEY(t_shirt_id) REFERENCES t_shirts (t_shirt_id), \n",
      "\tCONSTRAINT discounts_chk_1 CHECK ((`pct_discount` between 0 and 100))\n",
      ")DEFAULT CHARSET=utf8mb4 COLLATE utf8mb4_0900_ai_ci ENGINE=InnoDB\n",
      "\n",
      "/*\n",
      "3 rows from discounts table:\n",
      "discount_id\tt_shirt_id\tpct_discount\n",
      "1\t1\t10.00\n",
      "2\t2\t15.00\n",
      "3\t3\t20.00\n",
      "*/\n",
      "\n",
      "\n",
      "CREATE TABLE t_shirts (\n",
      "\tt_shirt_id INTEGER NOT NULL AUTO_INCREMENT, \n",
      "\tbrand ENUM('Van Huesen','Levi','Nike','Adidas') NOT NULL, \n",
      "\tcolor ENUM('Red','Blue','Black','White') NOT NULL, \n",
      "\tsize ENUM('XS','S','M','L','XL') NOT NULL, \n",
      "\tprice INTEGER, \n",
      "\tstock_quantity INTEGER NOT NULL, \n",
      "\tPRIMARY KEY (t_shirt_id), \n",
      "\tCONSTRAINT t_shirts_chk_1 CHECK ((`price` between 10 and 50))\n",
      ")DEFAULT CHARSET=utf8mb4 COLLATE utf8mb4_0900_ai_ci ENGINE=InnoDB\n",
      "\n",
      "/*\n",
      "3 rows from t_shirts table:\n",
      "t_shirt_id\tbrand\tcolor\tsize\tprice\tstock_quantity\n",
      "1\tVan Huesen\tRed\tXS\t14\t28\n",
      "2\tVan Huesen\tRed\tS\t36\t71\n",
      "3\tVan Huesen\tRed\tM\t27\t18\n",
      "*/\n"
     ]
    }
   ],
   "source": [
    "from langchain.utilities import SQLDatabase\n",
    "db_user=\"root\"\n",
    "db_password='root'\n",
    "db_host=\"localhost\"\n",
    "db_name=\"atliq_tshirts\"\n",
    "\n",
    "db=SQLDatabase.from_uri(f\"mysql+pymysql://{db_user}:{db_password}@{db_host}/{db_name}\",sample_rows_in_table_info=3)\n",
    "print(db.table_info)"
   ]
  },
  {
   "cell_type": "code",
   "execution_count": 45,
   "id": "3d445708-f67d-46ea-8948-e2eb1f736a44",
   "metadata": {},
   "outputs": [
    {
     "name": "stdout",
     "output_type": "stream",
     "text": [
     
   "source": [
    "pip install langchain-experimental"
   ]
  },
  {
   "cell_type": "code",
   "execution_count": 7,
   "id": "a668d0a3-f292-47a1-b028-0f31fd7b25da",
   "metadata": {},
   "outputs": [],
   "source": [
    "from langchain_experimental.sql import SQLDatabaseChain\n",
    "db_chain=SQLDatabaseChain.from_llm(llm,db,verbose=True, return_direct=True)\n",
    "# ques1=db_chain(\"How many t_shirts do we have for nike in extra small white colour\")\n",
    "# print(ques1)"
   ]
  },
  {
   "cell_type": "code",
   "execution_count": 78,
   "id": "9489d310-c17d-491b-9b00-70db9812445f",
   "metadata": {},
   "outputs": [
    {
     "data": {
      "text/plain": [
       "{'query': 'How many t_shirts do we have for nike in extra small white colour',\n",
       " 'result': \"[(Decimal('24'),)]\"}"
      ]
     },
     "execution_count": 78,
     "metadata": {},
     "output_type": "execute_result"
    }
   ],
   "source": [
    "ques1"
   ]
  },
  {
   "cell_type": "code",
   "execution_count": 23,
   "id": "61ac1f8c-d419-49ba-8c63-1d2d0fffc18c",
   "metadata": {},
   "outputs": [
    {
     "name": "stderr",
     "output_type": "stream",
     "text": [
      "C:\\Users\\yogit\\AppData\\Local\\Temp\\ipykernel_6140\\2455698512.py:1: LangChainDeprecationWarning: The method `Chain.run` was deprecated in langchain 0.1.0 and will be removed in 1.0. Use :meth:`~invoke` instead.\n",
      "  quns2=db_chain.run(\"How much is the price of the inventory for all small size tshirt\")\n"
     ]
    },
    {
     "name": "stdout",
     "output_type": "stream",
     "text": [
      "\n",
      "\n",
      "\u001b[1m> Entering new SQLDatabaseChain chain...\u001b[0m\n",
      "How much is the price of the inventory for all small size tshirt\n",
      "SQLQuery:\u001b[32;1m\u001b[1;3mQuestion: How much is the price of the inventory for all small size tshirt\n",
      "SQLQuery: SELECT SUM(`price` * `stock_quantity`) FROM t_shirts WHERE `size` = 'S'\u001b[0m\n",
      "SQLResult: \u001b[33;1m\u001b[1;3m[(Decimal('26417'),)]\u001b[0m\n",
      "\u001b[1m> Finished chain.\u001b[0m\n",
      "[(Decimal('26417'),)]\n"
     ]
    }
   ],
   "source": [
    "quns2=db_chain.run(\"How much is the price of the inventory for all small size tshirt\")\n",
    "print(quns2)"
   ]
  },
  {
   "cell_type": "code",
   "execution_count": 8,
   "id": "9e64ffda-3617-4fb4-a534-6238e9cb3809",
   "metadata": {},
   "outputs": [
    {
     "name": "stderr",
     "output_type": "stream",
     "text": [
      "C:\\Users\\yogit\\AppData\\Local\\Temp\\ipykernel_19112\\2540663306.py:1: LangChainDeprecationWarning: The method `Chain.run` was deprecated in langchain 0.1.0 and will be removed in 1.0. Use :meth:`~invoke` instead.\n",
      "  ques3=db_chain.run(\"SELECT sum(a.total_amount * ((100-COALESCE(discounts.pct_discount,0))/100)) as total_revenue from(select sum(price*stock_quantity) as total_amount, t_shirt_id from t_shirts where brand = 'Levi'group by t_shirt_id) a left join discounts on a.t_shirt_id = discounts.t_shirt_id \")\n"
     ]
    },
    {
     "name": "stdout",
     "output_type": "stream",
     "text": [
      "\n",
      "\n",
      "\u001b[1m> Entering new SQLDatabaseChain chain...\u001b[0m\n",
      "SELECT sum(a.total_amount * ((100-COALESCE(discounts.pct_discount,0))/100)) as total_revenue from(select sum(price*stock_quantity) as total_amount, t_shirt_id from t_shirts where brand = 'Levi'group by t_shirt_id) a left join discounts on a.t_shirt_id = discounts.t_shirt_id \n",
      "SQLQuery:\u001b[32;1m\u001b[1;3mQuestion: SELECT sum(a.total_amount * ((100-COALESCE(discounts.pct_discount,0))/100)) as total_revenue from(select sum(price*stock_quantity) as total_amount, t_shirt_id from t_shirts where brand = 'Levi'group by t_shirt_id) a left join discounts on a.t_shirt_id = discounts.t_shirt_id\n",
      "SQLQuery: SELECT sum(T1.total_amount * ((100 - COALESCE(T2.pct_discount, 0)) / 100)) AS total_revenue FROM (SELECT sum(`price` * `stock_quantity`) AS total_amount, `t_shirt_id` FROM t_shirts WHERE `brand` = 'Levi' GROUP BY `t_shirt_id`) AS T1 LEFT JOIN discounts AS T2 ON T1.t_shirt_id = T2.t_shirt_id\u001b[0m\n",
      "SQLResult: \u001b[33;1m\u001b[1;3m[(Decimal('27683.000000'),)]\u001b[0m\n",
      "\u001b[1m> Finished chain.\u001b[0m\n"
     ]
    }
   ],
   "source": [
    "ques3=db_chain.run(\"SELECT sum(a.total_amount * ((100-COALESCE(discounts.pct_discount,0))/100)) as total_revenue from(select sum(price*stock_quantity) as total_amount, t_shirt_id from t_shirts where brand = 'Levi'group by t_shirt_id) a left join discounts on a.t_shirt_id = discounts.t_shirt_id \")"
   ]
  },
  {
   "cell_type": "code",
   "execution_count": 35,
   "id": "019a11c6-5935-411d-8330-50ceebd36d14",
   "metadata": {},
   "outputs": [
    {
     "name": "stdout",
     "output_type": "stream",
     "text": [
      "\n",
      "\n",
      "\u001b[1m> Entering new SQLDatabaseChain chain...\u001b[0m\n",
      "How many white colour levi's t shirts we have available\n",
      "SQLQuery:\u001b[32;1m\u001b[1;3mQuestion: How many white colour levi's t shirts we have available\n",
      "SQLQuery: SELECT sum(`stock_quantity`) FROM t_shirts WHERE `brand` = 'Levi' AND `color` = 'White'\u001b[0m\n",
      "SQLResult: \u001b[33;1m\u001b[1;3m[(Decimal('205'),)]\u001b[0m\n",
      "\u001b[1m> Finished chain.\u001b[0m\n",
      "[(Decimal('205'),)]\n"
     ]
    }
   ],
   "source": [
    "ques4=db_chain.run(\"How many white colour levi's t shirts we have available\")\n",
    "print(ques4)"
   ]
  },
  {
   "cell_type": "code",
   "execution_count": 29,
   "id": "c2454b43-abb6-48ef-851f-c9c7d2e31679",
   "metadata": {},
   "outputs": [
    {
     "name": "stdout",
     "output_type": "stream",
     "text": [
      "\n",
      "\n",
      "\u001b[1m> Entering new SQLDatabaseChain chain...\u001b[0m\n",
      "SELECT SUM(price * stock_quantity) FROM t_shirts WHERE brand = 'Levi'\n",
      "SQLQuery:\u001b[32;1m\u001b[1;3mQuestion: SELECT SUM(price * stock_quantity) FROM t_shirts WHERE brand = 'Levi'\n",
      "SQLQuery: SELECT SUM(`price` * `stock_quantity`) FROM t_shirts WHERE `brand` = 'Levi'\u001b[0m\n",
      "SQLResult: \u001b[33;1m\u001b[1;3m[(Decimal('27683'),)]\u001b[0m\n",
      "\u001b[1m> Finished chain.\u001b[0m\n"
     ]
    }
   ],
   "source": [
    "ques5=db_chain.run(\"SELECT SUM(price * stock_quantity) FROM t_shirts WHERE brand = 'Levi'\")"
   ]
  },
  {
   "cell_type": "code",
   "execution_count": 37,
   "id": "2ed56ecf-38f4-4a6c-ab17-83a52873ce17",
   "metadata": {},
   "outputs": [
    {
     "name": "stdout",
     "output_type": "stream",
     "text": [
      "\n",
      "\n",
      "\u001b[1m> Entering new SQLDatabaseChain chain...\u001b[0m\n",
      "how much sales amount will be generated if we sell all large size t shirts today in nikebrand after discounts?\n",
      "SQLQuery:\u001b[32;1m\u001b[1;3mQuestion: how much sales amount will be generated if we sell all large size t shirts today in nikebrand after discounts?\n",
      "SQLQuery: SELECT SUM(T1.price * T1.stock_quantity * (100 - IFNULL(T2.pct_discount, 0)) / 100) FROM t_shirts AS T1 LEFT JOIN discounts AS T2 ON T1.t_shirt_id  =  T2.t_shirt_id WHERE T1.brand  =  'Nike' AND T1.size  =  'L'\u001b[0m\n",
      "SQLResult: \u001b[33;1m\u001b[1;3m[(Decimal('5857.000000'),)]\u001b[0m\n",
      "\u001b[1m> Finished chain.\u001b[0m\n"
     ]
    }
   ],
   "source": [
    "ques6=db_chain.run(\"how much sales amount will be generated if we sell all large size t shirts today in nikebrand after discounts?\")"
   ]
  },
  {
   "cell_type": "code",
   "execution_count": 7,
   "id": "668d43bc-9c9c-4a9b-b608-b45ca2fdbff9",
   "metadata": {
    "scrolled": true
   },
   "outputs": [],
   "source": [
    "few_shots = [\n",
    "    {'Question' : \"How many t-shirts do we have left for Nike in XS size and white color?\",\n",
    "     'SQLQuery' : \"SELECT sum(stock_quantity) FROM t_shirts WHERE brand = 'Nike' AND color = 'White' AND size = 'XS'\",\n",
    "     'SQLResult': \"Result of the SQL query\",\n",
    "     'Answer' : \"24\"},\n",
    "    {'Question': \"How much is the total price of the inventory for all S-size t-shirts?\",\n",
    "     'SQLQuery':\"SELECT SUM(price*stock_quantity) FROM t_shirts WHERE size = 'S'\",\n",
    "     'SQLResult': \"Result of the SQL query\",\n",
    "     'Answer': \"26417\"},\n",
    "    {'Question': \"If we have to sell all the Levi’s T-shirts today with discounts applied. How much revenue  our store will generate (post discounts)?\" ,\n",
    "     'SQLQuery' : \"\"\"SELECT sum(a.total_amount * ((100-COALESCE(discounts.pct_discount,0))/100)) as total_revenue from\n",
    "(select sum(price*stock_quantity) as total_amount, t_shirt_id from t_shirts where brand = 'Levi'\n",
    "group by t_shirt_id) a left join discounts on a.t_shirt_id = discounts.t_shirt_id\n",
    " \"\"\",\n",
    "     'SQLResult': \"Result of the SQL query\",\n",
    "     'Answer': \"27683\"} ,\n",
    "     {'Question' : \"If we have to sell all the Levi’s T-shirts today. How much revenue our store will generate without discount?\" ,\n",
    "      'SQLQuery': \"SELECT SUM(price * stock_quantity) FROM t_shirts WHERE brand = 'Levi'\",\n",
    "      'SQLResult': \"Result of the SQL query\",\n",
    "      'Answer' : \"\"},\n",
    "    {'Question': \"How many white color Levi's shirt I have?\",\n",
    "     'SQLQuery' : \"SELECT sum(stock_quantity) FROM t_shirts WHERE brand = 'Levi' AND color = 'White'\",\n",
    "     'SQLResult': \"Result of the SQL query\",\n",
    "     'Answer' : \"290\"\n",
    "     },\n",
    "    {'Question': \"how much sales amount will be generated if we sell all large size t shirts today in nike brand after discounts?\",\n",
    "     'SQLQuery' : \"\"\"SELECT sum(a.total_amount * ((100-COALESCE(discounts.pct_discount,0))/100)) as total_revenue from\n",
    "(select sum(price*stock_quantity) as total_amount, t_shirt_id from t_shirts where brand = 'Nike' and size=\"L\"\n",
    "group by t_shirt_id) a left join discounts on a.t_shirt_id = discounts.t_shirt_id\n",
    " \"\"\",\n",
    "     'SQLResult': \"Result of the SQL query\",\n",
    "     'Answer' : \"290\"\n",
    "    }\n",
    "]"
   ]
  },
  {
   "cell_type": "code",
   "execution_count": 9,
   "id": "57fbfdfd-211c-4bf6-9da9-1cdcd7753a5e",
   "metadata": {},
   "outputs": [],
   "source": [
    "from langchain_google_genai import GoogleGenerativeAIEmbeddings\n",
    "embeddings=GoogleGenerativeAIEmbeddings(model=\"models/text-embedding-004\")\n"
   ]
  },
  {
   "cell_type": "code",
   "execution_count": 19,
   "id": "6c1a64aa-2a8d-45ab-9c5b-d4ff45e27b46",
   "metadata": {},
   "outputs": [],
   "source": [
    "# Create a list of big strings, one for each dictionary\n",
    "from langchain_google_genai import GoogleGenerativeAIEmbeddings\n",
    "from langchain.vectorstores import FAISS\n",
    "\n",
    "# 1. Initialize Google Embeddings\n",
    "embeddings = GoogleGenerativeAIEmbeddings(model=\"models/embedding-001\")\n",
    "\n",
    "# 2. Prepare your documents from few_shots\n",
    "vectorstore_texts = [\n",
    "    \" \".join(str(v) for v in example.values()) for example in few_shots\n",
    "]\n",
    "\n",
    "# 3. Create FAISS vector store it stores the vector or create vector database\n",
    "vector_store = FAISS.from_texts(vectorstore_texts, embedding=embeddings,metadatas=few_shots)\n",
    "\n",
    "\n"
   ]
  },
  {
   "cell_type": "code",
   "execution_count": null,
   "id": "03149ba8-0e60-44f8-a7f7-3d2ea808a02e",
   "metadata": {},
   "outputs": [],
   "source": [
    "# from langchain.vectorstores import Chroma\n",
    "# vector_store=Chroma.from_texts(vectorstore,embedding=embeddings,metadatas=few_shots)"
   ]
  },
  {
   "cell_type": "code",
   "execution_count": 23,
   "id": "e57518f7-6b00-40e5-961a-adf71f482329",
   "metadata": {},
   "outputs": [
    {
     "data": {
      "text/plain": [
       "[{'Question': 'How many t-shirts do we have left for Nike in XS size and white color?',\n",
       "  'SQLQuery': \"SELECT sum(stock_quantity) FROM t_shirts WHERE brand = 'Nike' AND color = 'White' AND size = 'XS'\",\n",
       "  'SQLResult': 'Result of the SQL query',\n",
       "  'Answer': '24'},\n",
       " {'Question': 'If we have to sell all the Levi’s T-shirts today. How much revenue our store will generate without discount?',\n",
       "  'SQLQuery': \"SELECT SUM(price * stock_quantity) FROM t_shirts WHERE brand = 'Levi'\",\n",
       "  'SQLResult': 'Result of the SQL query',\n",
       "  'Answer': ''}]"
      ]
     },
     "execution_count": 23,
     "metadata": {},
     "output_type": "execute_result"
    }
   ],
   "source": [
    "from langchain.prompts import SemanticSimilarityExampleSelector\n",
    "example_selector=SemanticSimilarityExampleSelector(\n",
    "    vectorstore=vector_store,\n",
    "    k=2\n",
    ")\n",
    "example_selector.select_examples({'Question':\" How many Adidas T Shirts I have Left in My store?\"} )"
   ]
  },
  {
   "cell_type": "code",
   "execution_count": 27,
   "id": "e48cf18f-b2ef-47a8-8761-7441dc8c6d39",
   "metadata": {},
   "outputs": [],
   "source": [
    "from langchain.chains.sql_database.prompt import PROMPT_SUFFIX, _mysql_prompt"
   ]
  },
  {
   "cell_type": "code",
   "execution_count": 29,
   "id": "fd7220d6-c37b-4ec0-b9fc-b4f7292ce70a",
   "metadata": {},
   "outputs": [
    {
     "name": "stdout",
     "output_type": "stream",
     "text": [
      "You are a MySQL expert. Given an input question, first create a syntactically correct MySQL query to run, then look at the results of the query and return the answer to the input question.\n",
      "Unless the user specifies in the question a specific number of examples to obtain, query for at most {top_k} results using the LIMIT clause as per MySQL. You can order the results to return the most informative data in the database.\n",
      "Never query for all columns from a table. You must query only the columns that are needed to answer the question. Wrap each column name in backticks (`) to denote them as delimited identifiers.\n",
      "Pay attention to use only the column names you can see in the tables below. Be careful to not query for columns that do not exist. Also, pay attention to which column is in which table.\n",
      "Pay attention to use CURDATE() function to get the current date, if the question involves \"today\".\n",
      "\n",
      "Use the following format:\n",
      "\n",
      "Question: Question here\n",
      "SQLQuery: SQL Query to run\n",
      "SQLResult: Result of the SQLQuery\n",
      "Answer: Final answer here\n",
      "\n",
      "\n"
     ]
    }
   ],
   "source": [
    "print(_mysql_prompt)"
   ]
  },
  {
   "cell_type": "code",
   "execution_count": 31,
   "id": "71241ff1-5615-4788-a2bd-09b1a5b31039",
   "metadata": {},
   "outputs": [
    {
     "name": "stdout",
     "output_type": "stream",
     "text": [
      "Only use the following tables:\n",
      "{table_info}\n",
      "\n",
      "Question: {input}\n"
     ]
    }
   ],
   "source": [
    "print(PROMPT_SUFFIX,)"
   ]
  },
  {
   "cell_type": "code",
   "execution_count": 33,
   "id": "ba0fe888-d513-4502-9726-20677fb91226",
   "metadata": {},
   "outputs": [],
   "source": [
    "from langchain.prompts.prompt import PromptTemplate\n",
    "example_prompt = PromptTemplate(\n",
    "    input_variables=[\"Question\", \"SQLQuery\", \"SQLResult\",\"Answer\",],\n",
    "    template=\"\\nQuestion: {Question}\\nSQLQuery: {SQLQuery}\\nSQLResult: {SQLResult}\\nAnswer: {Answer}\",\n",
    ")\n"
   ]
  },
  {
   "cell_type": "code",
   "execution_count": null,
   "id": "c95a4f0b-fac9-4b53-8246-3c83c68ab3f8",
   "metadata": {},
   "outputs": [],
   "source": [
    "from langchain.prompts import FewShotPromptTemplate\n",
    "few_shot_template=FewShotPromptTemplate(\n",
    "    example_selector=example_selector,\n",
    "    example_prompt=example_prompt,\n",
    "    prefix=_mysql_prompt,\n",
    "    suffix=PROMPT_SUFFIX,\n",
    "     input_variables=[\"input\", \"table_info\", \"top_k\"], #These variables are used in the prefix and suffix\n",
    "\n",
    ")"
   ]
  },
  {
   "cell_type": "code",
   "execution_count": 41,
   "id": "8b3eb40d-a4e9-47be-ad9a-f2f269c5a7c7",
   "metadata": {},
   "outputs": [],
   "source": [
    "new_chain=SQLDatabaseChain.from_llm(llm,db,verbose=True,prompt=few_shot_template)"
   ]
  },
  {
   "cell_type": "code",
   "execution_count": 43,
   "id": "4f637de9-fa63-4381-9cf0-c5577041a7e0",
   "metadata": {},
   "outputs": [
    {
     "name": "stderr",
     "output_type": "stream",
     "text": [
      "C:\\Users\\yogit\\AppData\\Local\\Temp\\ipykernel_13852\\1346257766.py:1: LangChainDeprecationWarning: The method `Chain.__call__` was deprecated in langchain 0.1.0 and will be removed in 1.0. Use :meth:`~invoke` instead.\n",
      "  new_chain(\"How many white color levi's Shirt i have \")\n"
     ]
    },
    {
     "name": "stdout",
     "output_type": "stream",
     "text": [
      "\n",
      "\n",
      "\u001b[1m> Entering new SQLDatabaseChain chain...\u001b[0m\n",
      "How many white color levi's Shirt i have \n",
      "SQLQuery:\u001b[32;1m\u001b[1;3mSQLQuery: SELECT sum(`stock_quantity`) FROM t_shirts WHERE `brand` = 'Levi' AND `color` = 'White'\u001b[0m\n",
      "SQLResult: \u001b[33;1m\u001b[1;3m[(Decimal('205'),)]\u001b[0m\n",
      "Answer:\u001b[32;1m\u001b[1;3mI have 205 white color Levi's shirts.\u001b[0m\n",
      "\u001b[1m> Finished chain.\u001b[0m\n"
     ]
    },
    {
     "data": {
      "text/plain": [
       "{'query': \"How many white color levi's Shirt i have \",\n",
       " 'result': \"I have 205 white color Levi's shirts.\"}"
      ]
     },
     "execution_count": 43,
     "metadata": {},
     "output_type": "execute_result"
    }
   ],
   "source": [
    "new_chain(\"How many white color levi's Shirt i have \")"
   ]
  },
  {
   "cell_type": "code",
   "execution_count": 45,
   "id": "17904fa9-0d8d-4d9f-96bf-919939aa2693",
   "metadata": {},
   "outputs": [
    {
     "name": "stdout",
     "output_type": "stream",
     "text": [
      "\n",
      "\n",
      "\u001b[1m> Entering new SQLDatabaseChain chain...\u001b[0m\n",
      "How much is the part of the inventry for all samll size t shirts\n",
      "SQLQuery:\u001b[32;1m\u001b[1;3mSQLQuery: SELECT SUM(`price` * `stock_quantity`) FROM `t_shirts` WHERE `size` = 'S'\u001b[0m\n",
      "SQLResult: \u001b[33;1m\u001b[1;3m[(Decimal('26417'),)]\u001b[0m\n",
      "Answer:\u001b[32;1m\u001b[1;3m26417\u001b[0m\n",
      "\u001b[1m> Finished chain.\u001b[0m\n"
     ]
    },
    {
     "data": {
      "text/plain": [
       "{'query': 'How much is the part of the inventry for all samll size t shirts',\n",
       " 'result': '26417'}"
      ]
     },
     "execution_count": 45,
     "metadata": {},
     "output_type": "execute_result"
    }
   ],
   "source": [
    "new_chain(\"How much is the price of the inventry for all samll size t shirts\")"
   ]
  },
  {
   "cell_type": "code",
   "execution_count": 55,
   "id": "e0bfc179-c182-4fa0-9333-2f73423e1332",
   "metadata": {},
   "outputs": [
    {
     "name": "stdout",
     "output_type": "stream",
     "text": [
      "\n",
      "\n",
      "\u001b[1m> Entering new SQLDatabaseChain chain...\u001b[0m\n",
      "How much is the price of the inventry for all samll size t shirts\n",
      "SQLQuery:\u001b[32;1m\u001b[1;3mQuestion: How much is the price of the inventry for all samll size t shirts\n",
      "SQLQuery: SELECT SUM(`price` * `stock_quantity`) FROM t_shirts WHERE `size` = 'S'\u001b[0m\n",
      "SQLResult: \u001b[33;1m\u001b[1;3m[(Decimal('26417'),)]\u001b[0m\n",
      "\u001b[1m> Finished chain.\u001b[0m\n"
     ]
    },
    {
     "data": {
      "text/plain": [
       "{'query': 'How much is the price of the inventry for all samll size t shirts',\n",
       " 'result': \"[(Decimal('26417'),)]\"}"
      ]
     },
     "execution_count": 55,
     "metadata": {},
     "output_type": "execute_result"
    }
   ],
   "source": [
    "db_chain(\"How much is the price of the inventry for all samll size t shirts\")"
   ]
  },
  {
   "cell_type": "code",
   "execution_count": 53,
   "id": "3ae1afdf-b085-4a2d-a414-4754f600c87f",
   "metadata": {},
   "outputs": [
    {
     "name": "stdout",
     "output_type": "stream",
     "text": [
      "\n",
      "\n",
      "\u001b[1m> Entering new SQLDatabaseChain chain...\u001b[0m\n",
      "How much is the price all the extra samll size t shirts\n",
      "SQLQuery:\u001b[32;1m\u001b[1;3mSQLQuery: SELECT sum(`price` * `stock_quantity`) FROM `t_shirts` WHERE `size` = 'XS'\u001b[0m\n",
      "SQLResult: \u001b[33;1m\u001b[1;3m[(Decimal('27432'),)]\u001b[0m\n",
      "Answer:\u001b[32;1m\u001b[1;3m27432\u001b[0m\n",
      "\u001b[1m> Finished chain.\u001b[0m\n"
     ]
    },
    {
     "data": {
      "text/plain": [
       "{'query': 'How much is the price all the extra samll size t shirts',\n",
       " 'result': '27432'}"
      ]
     },
     "execution_count": 53,
     "metadata": {},
     "output_type": "execute_result"
    }
   ],
   "source": [
    "new_chain(\"How much is the price all the extra samll size t shirts\")"
   ]
  }
 ],
 "metadata": {
  "kernelspec": {
   "display_name": "base",
   "language": "python",
   "name": "python3"
  },
  "language_info": {
   "codemirror_mode": {
    "name": "ipython",
    "version": 3
   },
   "file_extension": ".py",
   "mimetype": "text/x-python",
   "name": "python",
   "nbconvert_exporter": "python",
   "pygments_lexer": "ipython3",
   "version": "3.12.4"
  }
 },
 "nbformat": 4,
 "nbformat_minor": 5
}
